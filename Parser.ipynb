{
 "cells": [
  {
   "cell_type": "code",
   "execution_count": 1,
   "metadata": {},
   "outputs": [],
   "source": [
    "import os\n",
    "with open('Path.txt', 'w', encoding='UTF-8') as Path_List:\n",
    "    for root, dirs, files in os.walk(\"C:\\\\Users\\\\a.mochalov\\\\Chromatography\\\\20190930\"):\n",
    "        for file in files:\n",
    "            if file == \"Report.TXT\":\n",
    "                Path_List.write(os.path.join(root, file))\n",
    "                Path_List.write(\"\\r\") "
   ]
  },
  {
   "cell_type": "code",
   "execution_count": 2,
   "metadata": {},
   "outputs": [],
   "source": [
    "import tempfile\n",
    "import sys\n",
    "\n",
    "with open('Path.txt') as Path_List:\n",
    "        for item in Path_List:\n",
    "            i = 0\n",
    "            check = 0\n",
    "            item.replace(\"\\\\\", \"/\")\n",
    "            t = tempfile.NamedTemporaryFile(mode=\"r+\", encoding='UTF-8')\n",
    "            inputF = open(item.rstrip(), 'r', encoding='UTF-16LE')\n",
    "            f = inputF.readlines()\n",
    "            while i < len(f):\n",
    "                if f[i].startswith('Totals'):\n",
    "                    check +=1\n",
    "                    if check == 3:\n",
    "                        t.write(f[i])\n",
    "                    else: i=i+8\n",
    "                else:\n",
    "                    t.write(f[i])\n",
    "                    i+=1\n",
    "            inputF.close()\n",
    "            t.seek(0)\n",
    "            o = open(item.rstrip(),'w', encoding='UTF-8')\n",
    "            for line in t:\n",
    "                o.write(line)\n",
    "            t.close()\n",
    "            o.close()"
   ]
  },
  {
   "cell_type": "code",
   "execution_count": null,
   "metadata": {},
   "outputs": [],
   "source": []
  }
 ],
 "metadata": {
  "kernelspec": {
   "display_name": "Python 3",
   "language": "python",
   "name": "python3"
  },
  "language_info": {
   "codemirror_mode": {
    "name": "ipython",
    "version": 3
   },
   "file_extension": ".py",
   "mimetype": "text/x-python",
   "name": "python",
   "nbconvert_exporter": "python",
   "pygments_lexer": "ipython3",
   "version": "3.7.4"
  }
 },
 "nbformat": 4,
 "nbformat_minor": 2
}
